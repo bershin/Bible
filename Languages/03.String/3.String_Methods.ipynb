{
 "cells": [
  {
   "cell_type": "markdown",
   "metadata": {},
   "source": [
    "## Method with out arguments "
   ]
  },
  {
   "cell_type": "markdown",
   "metadata": {},
   "source": [
    "### Change case - Original is unchanged"
   ]
  },
  {
   "cell_type": "code",
   "execution_count": 2,
   "metadata": {},
   "outputs": [
    {
     "name": "stdout",
     "output_type": "stream",
     "text": [
      "bershin john\n",
      "BERSHIN JOHN\n"
     ]
    }
   ],
   "source": [
    "fullName = \"Bershin John\"\n",
    "print(fullName.lower())\n",
    "print(fullName.upper())"
   ]
  },
  {
   "cell_type": "markdown",
   "metadata": {},
   "source": [
    "### Remove leading & trialing spaces"
   ]
  },
  {
   "cell_type": "code",
   "execution_count": 4,
   "metadata": {},
   "outputs": [
    {
     "name": "stdout",
     "output_type": "stream",
     "text": [
      "   Hello All   \n",
      "Hello All   \n",
      "   Hello All\n",
      "Hello All\n"
     ]
    }
   ],
   "source": [
    "greeting = \"   Hello All   \"\n",
    "print(greeting)\n",
    "print(greeting.lstrip())\n",
    "print(greeting.rstrip())\n",
    "print(greeting.strip())"
   ]
  },
  {
   "cell_type": "markdown",
   "metadata": {},
   "source": [
    "### Chaining"
   ]
  },
  {
   "cell_type": "code",
   "execution_count": 5,
   "metadata": {},
   "outputs": [
    {
     "name": "stdout",
     "output_type": "stream",
     "text": [
      "bershinjohn@gmail.com\n"
     ]
    }
   ],
   "source": [
    "print(\"  BershinJohn@Gmail.com \".strip().lower()) "
   ]
  },
  {
   "cell_type": "markdown",
   "metadata": {},
   "source": [
    "## Method with arguments"
   ]
  },
  {
   "cell_type": "markdown",
   "metadata": {},
   "source": [
    "### Index"
   ]
  },
  {
   "cell_type": "code",
   "execution_count": 10,
   "metadata": {},
   "outputs": [
    {
     "name": "stdout",
     "output_type": "stream",
     "text": [
      "0\n",
      "4\n",
      "1\n",
      "-1\n"
     ]
    }
   ],
   "source": [
    "tvShow = 'baseball'\n",
    "print(tvShow.index(\"base\"))\n",
    "print('baseball'.index(\"ball\"))\n",
    "print('baseball'.index(\"a\"))\n",
    "# print('baseball'.index(\"z\")) -> Error\n",
    "print('baseball'.find(\"z\")) "
   ]
  },
  {
   "cell_type": "markdown",
   "metadata": {},
   "source": [
    "### Slice"
   ]
  },
  {
   "cell_type": "code",
   "execution_count": 12,
   "metadata": {},
   "outputs": [
    {
     "name": "stdout",
     "output_type": "stream",
     "text": [
      "50.49\n",
      "Hero\n",
      "rHero\n",
      "\n",
      "Super\n",
      "He\n",
      "perH\n"
     ]
    }
   ],
   "source": [
    "print('$50.49'[1:])\n",
    "print('SuperHero'[5:])\n",
    "print('SuperHero'[-5:])\n",
    "print('SuperHero'[40:])\n",
    "print('SuperHero'[0:5])\n",
    "print('SuperHero'[5:7])\n",
    "print('SuperHero'[-7:-3])"
   ]
  },
  {
   "cell_type": "markdown",
   "metadata": {},
   "source": [
    "### Replace"
   ]
  },
  {
   "cell_type": "code",
   "execution_count": 14,
   "metadata": {},
   "outputs": [
    {
     "name": "stdout",
     "output_type": "stream",
     "text": [
      "He laughed hehehe\n",
      "He laughed hehehe\n",
      "He laughed hahaha\n"
     ]
    }
   ],
   "source": [
    "print(\"He laughed hahaha\".replace(\"hahaha\",\"hehehe\"))\n",
    "print(\"He laughed hahaha\".replace(\"ha\",\"he\"))\n",
    "print(\"He laughed hahaha\".replace(\"hoo\",\"he\"))\n"
   ]
  },
  {
   "cell_type": "markdown",
   "metadata": {},
   "source": [
    "### Chaining methods with arguments"
   ]
  },
  {
   "cell_type": "code",
   "execution_count": 15,
   "metadata": {},
   "outputs": [
    {
     "name": "stdout",
     "output_type": "stream",
     "text": [
      "RAGE\n"
     ]
    }
   ],
   "source": [
    "print(\"GARBAGE\"[2:].replace(\"B\",''))"
   ]
  }
 ],
 "metadata": {
  "kernelspec": {
   "display_name": "Python 3",
   "language": "python",
   "name": "python3"
  },
  "language_info": {
   "codemirror_mode": {
    "name": "ipython",
    "version": 3
   },
   "file_extension": ".py",
   "mimetype": "text/x-python",
   "name": "python",
   "nbconvert_exporter": "python",
   "pygments_lexer": "ipython3",
   "version": "3.10.0"
  }
 },
 "nbformat": 4,
 "nbformat_minor": 2
}
