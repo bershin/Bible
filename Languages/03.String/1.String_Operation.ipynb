{
 "cells": [
  {
   "cell_type": "markdown",
   "metadata": {},
   "source": [
    "### Use Single and double quote"
   ]
  },
  {
   "cell_type": "code",
   "execution_count": 1,
   "metadata": {},
   "outputs": [
    {
     "name": "stdout",
     "output_type": "stream",
     "text": [
      "Bershin John\n",
      "Married\n"
     ]
    }
   ],
   "source": [
    "name = \"Bershin John\"\n",
    "status = 'Married'\n",
    "print(name)\n",
    "print(status)"
   ]
  },
  {
   "cell_type": "markdown",
   "metadata": {},
   "source": [
    "### Quote inside quote"
   ]
  },
  {
   "cell_type": "code",
   "execution_count": 17,
   "metadata": {},
   "outputs": [
    {
     "name": "stdout",
     "output_type": "stream",
     "text": [
      "He said \"hahaha\"\n",
      "He said 'hahaha'\n"
     ]
    }
   ],
   "source": [
    "first_msg = 'He said \"hahaha\"'\n",
    "print(first_msg)\n",
    "second_msg = \"He said 'hahaha'\"\n",
    "print(second_msg)"
   ]
  },
  {
   "cell_type": "markdown",
   "metadata": {},
   "source": [
    "### Cannot mix quote"
   ]
  },
  {
   "cell_type": "code",
   "execution_count": 18,
   "metadata": {},
   "outputs": [],
   "source": [
    "# status = \"Marrried' -> SyntaxError: unterminated string literal \n",
    "# msg = \"He said \"hahaha\"\" -> SyntaxError: invalid syntax. Perhaps you forgot a comma?"
   ]
  },
  {
   "cell_type": "markdown",
   "metadata": {},
   "source": [
    "### Escape character"
   ]
  },
  {
   "cell_type": "code",
   "execution_count": 19,
   "metadata": {},
   "outputs": [
    {
     "name": "stdout",
     "output_type": "stream",
     "text": [
      "He ain't happy\n",
      "He said \"he isn't happy\"\n"
     ]
    }
   ],
   "source": [
    "print('He ain\\'t happy')\n",
    "print(\"He said \\\"he isn't happy\\\"\") "
   ]
  },
  {
   "cell_type": "markdown",
   "metadata": {},
   "source": [
    "### String template literals"
   ]
  },
  {
   "cell_type": "code",
   "execution_count": 20,
   "metadata": {},
   "outputs": [
    {
     "name": "stdout",
     "output_type": "stream",
     "text": [
      "I count 7 sheeps\n",
      "BERSHIN JOHN owe me $15\n"
     ]
    }
   ],
   "source": [
    "cost = 20\n",
    "# print(f\"He said \"he isn't happy\"\")\n",
    "print(f\"I count {3+4} sheeps\")\n",
    "print(f\"{name.upper()} owe me ${cost-5}\")"
   ]
  },
  {
   "cell_type": "markdown",
   "metadata": {},
   "source": [
    "### Concat string"
   ]
  },
  {
   "cell_type": "code",
   "execution_count": 21,
   "metadata": {},
   "outputs": [
    {
     "name": "stdout",
     "output_type": "stream",
     "text": [
      "John Berchin\n",
      "54\n"
     ]
    }
   ],
   "source": [
    "firstName = \"John\"\n",
    "lastName = 'Berchin'\n",
    "fullName = firstName + \" \" + lastName\n",
    "print(fullName)\n",
    "\n",
    "age = \"5\" + \"4\"\n",
    "print(age)"
   ]
  },
  {
   "cell_type": "markdown",
   "metadata": {},
   "source": [
    "### String with numbers - NOT POSSIBLE"
   ]
  },
  {
   "cell_type": "code",
   "execution_count": 22,
   "metadata": {},
   "outputs": [
    {
     "name": "stdout",
     "output_type": "stream",
     "text": [
      "Hello\n",
      "World\n"
     ]
    }
   ],
   "source": [
    "# print(\"hi\" + 1) -> TypeError: can only concatenate str (not \"int\") to str\n",
    "# print(\"hi\" - \"h\") -> TypeError: unsupported operand type(s) for -: 'str' and 'str'\n",
    "# print(\"hi\" / \"h\") -> TypeError: unsupported operand type(s) for /: 'str' and 'str'\n",
    "print(\"Hello\\nWorld\")"
   ]
  }
 ],
 "metadata": {
  "kernelspec": {
   "display_name": "Python 3",
   "language": "python",
   "name": "python3"
  },
  "language_info": {
   "codemirror_mode": {
    "name": "ipython",
    "version": 3
   },
   "file_extension": ".py",
   "mimetype": "text/x-python",
   "name": "python",
   "nbconvert_exporter": "python",
   "pygments_lexer": "ipython3",
   "version": "3.10.0"
  }
 },
 "nbformat": 4,
 "nbformat_minor": 2
}
