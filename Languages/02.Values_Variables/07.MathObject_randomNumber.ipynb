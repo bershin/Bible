{
 "cells": [
  {
   "cell_type": "code",
   "execution_count": 1,
   "metadata": {},
   "outputs": [
    {
     "name": "stdout",
     "output_type": "stream",
     "text": [
      "3.141592653589793\n",
      "2\n",
      "8.0\n",
      "4\n",
      "5\n",
      "0.18461863313200244\n",
      "2\n",
      "3\n"
     ]
    }
   ],
   "source": [
    "import math\n",
    "import random\n",
    "\n",
    "print(math.pi)                 # 3.141592653589793\n",
    "print(abs(-2))                 # 2\n",
    "print(math.pow(2, 3))          # 8.0 (Returns float, use ** for integer exponentiation)\n",
    "print(math.floor(4.56))        # 4\n",
    "print(round(4.56))             # 5\n",
    "print(random.random())         # Random float between 0 and 1\n",
    "\n",
    "# Find a random number between 1 to 10\n",
    "print(math.floor(random.random() * 10) + 1)  # Similar to JS logic\n",
    "\n",
    "# A more Pythonic way to get a random integer between 1 and 10\n",
    "print(random.randint(1, 10))  # Returns an integer from 1 to 10"
   ]
  },
  {
   "cell_type": "code",
   "execution_count": null,
   "metadata": {},
   "outputs": [],
   "source": []
  }
 ],
 "metadata": {
  "kernelspec": {
   "display_name": "Python 3",
   "language": "python",
   "name": "python3"
  },
  "language_info": {
   "codemirror_mode": {
    "name": "ipython",
    "version": 3
   },
   "file_extension": ".py",
   "mimetype": "text/x-python",
   "name": "python",
   "nbconvert_exporter": "python",
   "pygments_lexer": "ipython3",
   "version": "3.10.0"
  }
 },
 "nbformat": 4,
 "nbformat_minor": 2
}
