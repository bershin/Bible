{
 "cells": [
  {
   "cell_type": "code",
   "execution_count": 1,
   "metadata": {},
   "outputs": [
    {
     "name": "stdout",
     "output_type": "stream",
     "text": [
      "['R', 'E', 'S', 'P', 'E', 'C', 'T']\n",
      "[True, 3, 'pig']\n"
     ]
    }
   ],
   "source": [
    "# Reverse a list\n",
    "letters = ['T', 'C', 'E', 'P', 'S', 'E', 'R']\n",
    "letters.reverse()\n",
    "print(letters)\n",
    "# ['R', 'E', 'S', 'P', 'E', 'C', 'T']\n",
    "\n",
    "# Reverse and print a mixed list\n",
    "print(list(reversed([\"pig\", 3, True])))\n",
    "# [True, 3, 'pig']"
   ]
  },
  {
   "cell_type": "code",
   "execution_count": 2,
   "metadata": {},
   "outputs": [
    {
     "name": "stdout",
     "output_type": "stream",
     "text": [
      "R,E,S,P,E,C,T\n",
      "RESPECT\n",
      "R.E.S.P.E.C.T\n",
      "R->#E->#S->#P->#E->#C->#T\n",
      "R-E-S-P-E-C-T\n"
     ]
    }
   ],
   "source": [
    "\n",
    "# Join list items into a string\n",
    "print(\",\".join(letters))         # R,E,S,P,E,C,T\n",
    "print(\"\".join(letters))          # RESPECT\n",
    "print(\".\".join(letters))         # R.E.S.P.E.C.T\n",
    "print(\"->#\".join(letters))       # R->#E->#S->#P->#E->#C->#T\n",
    "\n",
    "# One-liner: reverse and join\n",
    "print(\"-\".join(reversed(['T', 'C', 'E', 'P', 'S', 'E', 'R'])))\n",
    "# R-E-S-P-E-C-T\n"
   ]
  }
 ],
 "metadata": {
  "kernelspec": {
   "display_name": "Python 3",
   "language": "python",
   "name": "python3"
  },
  "language_info": {
   "codemirror_mode": {
    "name": "ipython",
    "version": 3
   },
   "file_extension": ".py",
   "mimetype": "text/x-python",
   "name": "python",
   "nbconvert_exporter": "python",
   "pygments_lexer": "ipython3",
   "version": "3.10.0"
  }
 },
 "nbformat": 4,
 "nbformat_minor": 2
}
