{
 "cells": [
  {
   "cell_type": "code",
   "execution_count": 4,
   "metadata": {},
   "outputs": [
    {
     "name": "stdout",
     "output_type": "stream",
     "text": [
      "4\n",
      "4\n",
      "red\n",
      "green\n",
      "green\n",
      "['brown', 'orange', 'blue', 'green']\n",
      "['brown', 'orange', 'blue', 'green', 'purple']\n"
     ]
    }
   ],
   "source": [
    "color = [\"red\", \"orange\", \"blue\", \"green\"]\n",
    "\n",
    "# Length of the list\n",
    "print(len([\"red\", \"orange\", \"blue\", \"green\"]))  # 4\n",
    "print(len(color))  # 4\n",
    "\n",
    "# Accessing elements\n",
    "print(color[0])  # \"red\"\n",
    "# print(color[len(color)])  # IndexError: list index out of range\n",
    "print(color[len(color)-1])  # \"green\"\n",
    "print(color[3])  # \"green\"\n",
    "\n",
    "# Lists are mutable\n",
    "color[0] = \"brown\"\n",
    "print(color)  # ['brown', 'orange', 'blue', 'green']\n",
    "\n",
    "# Appending an item (equivalent to JS: color[color.length] = ...)\n",
    "# color[len(color)]\n",
    "color.append(\"purple\") # IndexError: list index out of range\n",
    "print(color)  # ['brown', 'orange', 'blue', 'green', 'purple']\n"
   ]
  }
 ],
 "metadata": {
  "kernelspec": {
   "display_name": "Python 3",
   "language": "python",
   "name": "python3"
  },
  "language_info": {
   "codemirror_mode": {
    "name": "ipython",
    "version": 3
   },
   "file_extension": ".py",
   "mimetype": "text/x-python",
   "name": "python",
   "nbconvert_exporter": "python",
   "pygments_lexer": "ipython3",
   "version": "3.10.0"
  }
 },
 "nbformat": 4,
 "nbformat_minor": 2
}
