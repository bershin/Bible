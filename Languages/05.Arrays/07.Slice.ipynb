{
 "cells": [
  {
   "cell_type": "code",
   "execution_count": 1,
   "metadata": {},
   "outputs": [
    {
     "name": "stdout",
     "output_type": "stream",
     "text": [
      "['cherry']\n",
      "['grapes', 'orange', 'apple', 'pine apple', 'cherry']\n",
      "[]\n",
      "['mango', 'grapes', 'orange', 'apple', 'pine apple']\n",
      "['cherry']\n",
      "['mango', 'grapes', 'orange']\n"
     ]
    }
   ],
   "source": [
    "fruits = [\"mango\", \"grapes\", \"orange\", \"apple\", \"pine apple\", \"cherry\"]\n",
    "\n",
    "print(fruits[5:])          # ['cherry']\n",
    "print(fruits[-5:])         # ['grapes', 'orange', 'apple', 'pine apple', 'cherry']\n",
    "print(fruits[40:])         # [] ← index out of range doesn't throw an error\n",
    "print(fruits[0:5])         # ['mango', 'grapes', 'orange', 'apple', 'pine apple']\n",
    "print(fruits[5:7])         # ['cherry']\n",
    "print(fruits[-7:-3])       # ['mango', 'grapes', 'orange']"
   ]
  },
  {
   "cell_type": "code",
   "execution_count": 2,
   "metadata": {},
   "outputs": [
    {
     "name": "stdout",
     "output_type": "stream",
     "text": [
      "['mango', 'grapes', 'orange', 'apple', 'pine apple', 'cherry']\n"
     ]
    }
   ],
   "source": [
    "# Copy the list\n",
    "newFruit = fruits[:]\n",
    "print(newFruit)            # ['mango', 'grapes', 'orange', 'apple', 'pine apple', 'cherry']"
   ]
  }
 ],
 "metadata": {
  "kernelspec": {
   "display_name": "Python 3",
   "language": "python",
   "name": "python3"
  },
  "language_info": {
   "codemirror_mode": {
    "name": "ipython",
    "version": 3
   },
   "file_extension": ".py",
   "mimetype": "text/x-python",
   "name": "python",
   "nbconvert_exporter": "python",
   "pygments_lexer": "ipython3",
   "version": "3.10.0"
  }
 },
 "nbformat": 4,
 "nbformat_minor": 2
}
