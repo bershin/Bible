{
 "cells": [
  {
   "cell_type": "code",
   "execution_count": 1,
   "metadata": {},
   "outputs": [
    {
     "name": "stdout",
     "output_type": "stream",
     "text": [
      "['Nee kartu', 'Kanmani ne vara', 'Ithu oru pon malai']\n"
     ]
    }
   ],
   "source": [
    "tamilSongs = [\n",
    "    \"Nee kartu\",\n",
    "    \"Kanmani ne vara\",\n",
    "    \"Ithu oru pon malai\"\n",
    "]\n",
    "\n",
    "print(tamilSongs)\n",
    "# ['Nee kartu', 'Kanmani ne vara', 'Ithu oru pon malai']"
   ]
  },
  {
   "cell_type": "code",
   "execution_count": 2,
   "metadata": {},
   "outputs": [
    {
     "name": "stdout",
     "output_type": "stream",
     "text": [
      "4\n",
      "['Nee kartu', 'Kanmani ne vara', 'Ithu oru pon malai', 'aasai nooru vagai']\n",
      "6\n"
     ]
    }
   ],
   "source": [
    "tamilSongs.append(\"aasai nooru vagai\")\n",
    "print(len(tamilSongs))  # 4\n",
    "print(tamilSongs)\n",
    "# ['Nee kartu', 'Kanmani ne vara', 'Ithu oru pon malai', 'aasai nooru vagai']\n",
    "\n",
    "tamilSongs.extend([\"meenamma..\", \"amma amma \"])\n",
    "print(len(tamilSongs))  # 6"
   ]
  },
  {
   "cell_type": "code",
   "execution_count": 3,
   "metadata": {},
   "outputs": [
    {
     "name": "stdout",
     "output_type": "stream",
     "text": [
      "amma amma \n",
      "['Nee kartu', 'Kanmani ne vara', 'Ithu oru pon malai', 'aasai nooru vagai', 'meenamma..']\n"
     ]
    }
   ],
   "source": [
    "print(tamilSongs.pop())  # 'amma amma '\n",
    "print(tamilSongs)\n",
    "# ['Nee kartu', 'Kanmani ne vara', 'Ithu oru pon malai', 'aasai nooru vagai', 'meenamma..']"
   ]
  },
  {
   "cell_type": "code",
   "execution_count": 4,
   "metadata": {},
   "outputs": [
    {
     "name": "stdout",
     "output_type": "stream",
     "text": [
      "6\n",
      "['rasathi unna', 'Nee kartu', 'Kanmani ne vara', 'Ithu oru pon malai', 'aasai nooru vagai', 'meenamma..']\n",
      "8\n",
      "['ninu kori', 'rajavai thalathum', 'rasathi unna', 'Nee kartu', 'Kanmani ne vara', 'Ithu oru pon malai', 'aasai nooru vagai', 'meenamma..']\n"
     ]
    }
   ],
   "source": [
    "tamilSongs.insert(0, \"rasathi unna\")\n",
    "print(len(tamilSongs))  # 6\n",
    "print(tamilSongs)\n",
    "# ['rasathi unna', 'Nee kartu', 'Kanmani ne vara', 'Ithu oru pon malai', 'aasai nooru vagai', 'meenamma..']\n",
    "\n",
    "tamilSongs = [\"ninu kori\", \"rajavai thalathum\"] + tamilSongs\n",
    "print(len(tamilSongs))  # 8\n",
    "print(tamilSongs)\n",
    "# ['ninu kori', 'rajavai thalathum', 'rasathi unna', 'Nee kartu', 'Kanmani ne vara', 'Ithu oru pon malai', 'aasai nooru vagai', 'meenamma..']"
   ]
  },
  {
   "cell_type": "code",
   "execution_count": 5,
   "metadata": {},
   "outputs": [
    {
     "name": "stdout",
     "output_type": "stream",
     "text": [
      "ninu kori\n",
      "['rajavai thalathum', 'rasathi unna', 'Nee kartu', 'Kanmani ne vara', 'Ithu oru pon malai', 'aasai nooru vagai', 'meenamma..']\n"
     ]
    }
   ],
   "source": [
    "print(tamilSongs.pop(0))  # 'ninu kori'\n",
    "print(tamilSongs)\n",
    "# ['rajavai thalathum', 'rasathi unna', 'Nee kartu', 'Kanmani ne vara', 'Ithu oru pon malai', 'aasai nooru vagai', 'meenamma..']"
   ]
  }
 ],
 "metadata": {
  "kernelspec": {
   "display_name": "Python 3",
   "language": "python",
   "name": "python3"
  },
  "language_info": {
   "codemirror_mode": {
    "name": "ipython",
    "version": 3
   },
   "file_extension": ".py",
   "mimetype": "text/x-python",
   "name": "python",
   "nbconvert_exporter": "python",
   "pygments_lexer": "ipython3",
   "version": "3.10.0"
  }
 },
 "nbformat": 4,
 "nbformat_minor": 2
}
