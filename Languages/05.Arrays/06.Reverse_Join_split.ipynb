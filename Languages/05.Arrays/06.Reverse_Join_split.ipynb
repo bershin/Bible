{
 "cells": [
  {
   "cell_type": "markdown",
   "metadata": {},
   "source": [
    "### Reverse a list"
   ]
  },
  {
   "cell_type": "code",
   "execution_count": null,
   "metadata": {},
   "outputs": [
    {
     "name": "stdout",
     "output_type": "stream",
     "text": [
      "['R', 'E', 'S', 'P', 'E', 'C', 'T']\n",
      "[True, 3, 'pig']\n"
     ]
    }
   ],
   "source": [
    "letters = ['T', 'C', 'E', 'P', 'S', 'E', 'R']\n",
    "letters.reverse()\n",
    "print(letters)"
   ]
  },
  {
   "cell_type": "markdown",
   "metadata": {},
   "source": [
    "### Return reverse iterator for any iterable"
   ]
  },
  {
   "cell_type": "code",
   "execution_count": 6,
   "metadata": {},
   "outputs": [
    {
     "name": "stdout",
     "output_type": "stream",
     "text": [
      "<list_reverseiterator object at 0x104dd1a20>\n",
      "[True, 3, 'pig']\n",
      "['pig', 3, True]\n"
     ]
    }
   ],
   "source": [
    "# Reverse and print a mixed list\n",
    "mixed = [\"pig\", 3, True]\n",
    "print(reversed(mixed))\n",
    "print(list(reversed([\"pig\", 3, True])))\n",
    "print(mixed)"
   ]
  },
  {
   "cell_type": "markdown",
   "metadata": {},
   "source": [
    "### List to String"
   ]
  },
  {
   "cell_type": "code",
   "execution_count": 2,
   "metadata": {},
   "outputs": [
    {
     "name": "stdout",
     "output_type": "stream",
     "text": [
      "R,E,S,P,E,C,T\n",
      "RESPECT\n",
      "R.E.S.P.E.C.T\n",
      "R->#E->#S->#P->#E->#C->#T\n",
      "R-E-S-P-E-C-T\n"
     ]
    }
   ],
   "source": [
    "\n",
    "print(\",\".join(letters))         # R,E,S,P,E,C,T\n",
    "print(\"\".join(letters))          # RESPECT\n",
    "print(\".\".join(letters))         # R.E.S.P.E.C.T\n",
    "print(\"->#\".join(letters))       # R->#E->#S->#P->#E->#C->#T"
   ]
  },
  {
   "cell_type": "markdown",
   "metadata": {},
   "source": [
    "### Reverse and Join"
   ]
  },
  {
   "cell_type": "code",
   "execution_count": 6,
   "metadata": {},
   "outputs": [
    {
     "name": "stdout",
     "output_type": "stream",
     "text": [
      "R-E-S-P-E-C-T\n"
     ]
    }
   ],
   "source": [
    "# One-liner: reverse and join\n",
    "print(\"-\".join(reversed(['T', 'C', 'E', 'P', 'S', 'E', 'R'])))"
   ]
  },
  {
   "cell_type": "markdown",
   "metadata": {},
   "source": [
    "### String to List"
   ]
  },
  {
   "cell_type": "code",
   "execution_count": 4,
   "metadata": {},
   "outputs": [
    {
     "name": "stdout",
     "output_type": "stream",
     "text": [
      "['j', 'o', 'h', 'n']\n",
      "['A', '2', '3', '4', '5', '6', '7', '8', '9', '10', 'J', 'Q', 'K']\n"
     ]
    }
   ],
   "source": [
    "full_name = \"john\"\n",
    "char_array = list(full_name)  # Similar to split('')\n",
    "print(char_array)  # ['j', 'o', 'h', 'n']\n",
    "\n",
    "# print(full_name.split('')) # ValueError: empty separator\n",
    "\n",
    "card = \"A,2,3,4,5,6,7,8,9,10,J,Q,K\"\n",
    "card_array = card.split(\",\")\n",
    "print(card_array)  # ['A', '2', '3', ..., 'K']"
   ]
  }
 ],
 "metadata": {
  "kernelspec": {
   "display_name": "Python 3",
   "language": "python",
   "name": "python3"
  },
  "language_info": {
   "codemirror_mode": {
    "name": "ipython",
    "version": 3
   },
   "file_extension": ".py",
   "mimetype": "text/x-python",
   "name": "python",
   "nbconvert_exporter": "python",
   "pygments_lexer": "ipython3",
   "version": "3.10.0"
  }
 },
 "nbformat": 4,
 "nbformat_minor": 2
}
