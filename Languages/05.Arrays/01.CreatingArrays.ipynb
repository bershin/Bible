{
 "cells": [
  {
   "cell_type": "code",
   "execution_count": 1,
   "metadata": {},
   "outputs": [
    {
     "name": "stdout",
     "output_type": "stream",
     "text": [
      "[]\n",
      "[]\n",
      "[98, 64, 32, 85]\n",
      "[95, 32, 64, 45]\n",
      "['red', 'blue', 'green']\n",
      "[True, 68, 'cat', None]\n"
     ]
    }
   ],
   "source": [
    "students = []\n",
    "print(students)\n",
    "\n",
    "empty = list();\n",
    "print(students)\n",
    "\n",
    "lotto = [98,64, 32, 85]\n",
    "print(lotto)\n",
    "\n",
    "# list() expects a single iterable argument (like a tuple, list, or string), not multiple comma-separated values.\n",
    "mark = list((95, 32, 64, 45))\n",
    "print(mark)\n",
    "\n",
    "color = [\"red\", \"blue\", \"green\"]\n",
    "print(color)\n",
    "\n",
    "stuff = [True, 68, \"cat\", None]\n",
    "print(stuff)"
   ]
  }
 ],
 "metadata": {
  "kernelspec": {
   "display_name": "Python 3",
   "language": "python",
   "name": "python3"
  },
  "language_info": {
   "codemirror_mode": {
    "name": "ipython",
    "version": 3
   },
   "file_extension": ".py",
   "mimetype": "text/x-python",
   "name": "python",
   "nbconvert_exporter": "python",
   "pygments_lexer": "ipython3",
   "version": "3.10.0"
  }
 },
 "nbformat": 4,
 "nbformat_minor": 2
}
