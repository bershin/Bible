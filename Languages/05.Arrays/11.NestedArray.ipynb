{
 "cells": [
  {
   "cell_type": "code",
   "execution_count": 1,
   "metadata": {},
   "outputs": [
    {
     "name": "stdout",
     "output_type": "stream",
     "text": [
      "[None, 'X', 'O']\n",
      "O\n"
     ]
    }
   ],
   "source": [
    "# Example 1: board array (2D list)\n",
    "board = [\n",
    "    ['O', None, 'X'],\n",
    "    [None, 'X', 'O'],\n",
    "    ['X', 'O', None]\n",
    "]\n",
    "\n",
    "print(board[1])       # [None, 'X', 'O']\n",
    "print(board[1][2])    # O"
   ]
  },
  {
   "cell_type": "code",
   "execution_count": 2,
   "metadata": {},
   "outputs": [
    {
     "name": "stdout",
     "output_type": "stream",
     "text": [
      "['raja', ['rani', 'arasi']]\n",
      "['rani', 'arasi']\n",
      "rani\n"
     ]
    }
   ],
   "source": [
    "# Example 2: namePair array (nested lists)\n",
    "namePair = [\n",
    "    [\"raja\", [\"rani\", \"arasi\"]],\n",
    "    [\"veera\", \"veeri\"],\n",
    "    [\"madhan\", \"madani\"]\n",
    "]\n",
    "\n",
    "print(namePair[0])      # ['raja', ['rani', 'arasi']]\n",
    "print(namePair[0][1])   # ['rani', 'arasi']\n",
    "print(namePair[0][1][0]) # rani"
   ]
  }
 ],
 "metadata": {
  "kernelspec": {
   "display_name": "Python 3",
   "language": "python",
   "name": "python3"
  },
  "language_info": {
   "codemirror_mode": {
    "name": "ipython",
    "version": 3
   },
   "file_extension": ".py",
   "mimetype": "text/x-python",
   "name": "python",
   "nbconvert_exporter": "python",
   "pygments_lexer": "ipython3",
   "version": "3.10.0"
  }
 },
 "nbformat": 4,
 "nbformat_minor": 2
}
