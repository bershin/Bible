{
 "cells": [
  {
   "cell_type": "markdown",
   "metadata": {},
   "source": [
    "#### Sort an string list with out mutating the original in ascending order"
   ]
  },
  {
   "cell_type": "code",
   "execution_count": 3,
   "metadata": {},
   "outputs": [
    {
     "name": "stdout",
     "output_type": "stream",
     "text": [
      "['apple', 'cherry', 'grapes', 'mango', 'orange', 'pine apple']\n",
      "['mango', 'grapes', 'orange', 'apple', 'pine apple', 'cherry']\n"
     ]
    }
   ],
   "source": [
    "fruits = [\"mango\", \"grapes\", \"orange\", \"apple\", \"pine apple\", \"cherry\"]\n",
    "print(sorted(fruits))  # ['apple', 'cherry', 'grapes', 'mango', 'orange', 'pine apple']\n",
    "print(fruits)  # original list unchanged"
   ]
  },
  {
   "cell_type": "markdown",
   "metadata": {},
   "source": [
    "#### Sorting an string list in ascending order by mutating the original array"
   ]
  },
  {
   "cell_type": "code",
   "execution_count": 2,
   "metadata": {},
   "outputs": [
    {
     "name": "stdout",
     "output_type": "stream",
     "text": [
      "['apple', 'cherry', 'grapes', 'mango', 'orange', 'pine apple']\n"
     ]
    }
   ],
   "source": [
    "# In-place sort (like JS `fruits.sort()`)\n",
    "fruits.sort()\n",
    "print(fruits)  # ['apple', 'cherry', 'grapes', 'mango', 'orange', 'pine apple']"
   ]
  },
  {
   "cell_type": "markdown",
   "metadata": {},
   "source": [
    "#### Sorting an integer list in ascending order without mutating the original array"
   ]
  },
  {
   "cell_type": "code",
   "execution_count": 13,
   "metadata": {},
   "outputs": [
    {
     "name": "stdout",
     "output_type": "stream",
     "text": [
      "[1, 2, 3, 5, 11, 23, 33, 66]\n"
     ]
    }
   ],
   "source": [
    "lotto = [1, 23, 11, 2, 3, 33, 5, 66]\n",
    "\n",
    "# JS default sort does lexicographical sorting unless comparator provided\n",
    "# Python does numeric sort by default!\n",
    "print(sorted(lotto))"
   ]
  },
  {
   "cell_type": "markdown",
   "metadata": {},
   "source": [
    "#### Sorting an integer list in ascending order with out mutating the original array, like lexical scope"
   ]
  },
  {
   "cell_type": "code",
   "execution_count": 12,
   "metadata": {},
   "outputs": [
    {
     "name": "stdout",
     "output_type": "stream",
     "text": [
      "[1, 2, 3, 5, 11, 23, 33, 66]\n"
     ]
    }
   ],
   "source": [
    "sort_lotto = sorted([1, 23, 11, 2, 3, 33, 5, 66], key=lambda x: x)\n",
    "print(sort_lotto)"
   ]
  },
  {
   "cell_type": "markdown",
   "metadata": {},
   "source": [
    "#### Sorting an string list in decending order by mutating the original array"
   ]
  },
  {
   "cell_type": "code",
   "execution_count": 11,
   "metadata": {},
   "outputs": [
    {
     "name": "stdout",
     "output_type": "stream",
     "text": [
      "['pine apple', 'orange', 'mango', 'grapes', 'cherry', 'apple']\n"
     ]
    }
   ],
   "source": [
    "fruits = [\"mango\", \"grapes\", \"orange\", \"apple\", \"pine apple\", \"cherry\"]\n",
    "fruits.sort(reverse=True)\n",
    "print(fruits)"
   ]
  },
  {
   "cell_type": "markdown",
   "metadata": {},
   "source": [
    "#### Sorting an integer list in decending order by mutating the original array"
   ]
  },
  {
   "cell_type": "code",
   "execution_count": 9,
   "metadata": {},
   "outputs": [
    {
     "name": "stdout",
     "output_type": "stream",
     "text": [
      "[66, 33, 23, 11, 5, 3, 2, 1]\n"
     ]
    }
   ],
   "source": [
    "lotto = [1, 23, 11, 2, 3, 33, 5, 66]\n",
    "lotto.sort(reverse=True)\n",
    "print(lotto)"
   ]
  },
  {
   "cell_type": "markdown",
   "metadata": {},
   "source": [
    "#### Sorting an string list based on length by mutating the original array"
   ]
  },
  {
   "cell_type": "code",
   "execution_count": 10,
   "metadata": {},
   "outputs": [
    {
     "name": "stdout",
     "output_type": "stream",
     "text": [
      "['mango', 'apple', 'grapes', 'orange', 'cherry', 'pine apple']\n"
     ]
    }
   ],
   "source": [
    "fruits = [\"mango\", \"grapes\", \"orange\", \"apple\", \"pine apple\", \"cherry\"]\n",
    "fruits.sort(key=len)\n",
    "print(fruits)"
   ]
  },
  {
   "cell_type": "markdown",
   "metadata": {},
   "source": [
    "### Sort numbers by last digit in ascending order"
   ]
  },
  {
   "cell_type": "code",
   "execution_count": 8,
   "metadata": {},
   "outputs": [
    {
     "name": "stdout",
     "output_type": "stream",
     "text": [
      "[32, 93, 44, 15, 27, 18]\n"
     ]
    }
   ],
   "source": [
    "nums = [18, 32, 27, 44, 15, 93]\n",
    "nums.sort(key=lambda x: x % 10)\n",
    "print(nums)\n"
   ]
  },
  {
   "cell_type": "markdown",
   "metadata": {},
   "source": [
    "### Sort numbers by last digit in decending order"
   ]
  },
  {
   "cell_type": "code",
   "execution_count": 7,
   "metadata": {},
   "outputs": [
    {
     "name": "stdout",
     "output_type": "stream",
     "text": [
      "[18, 27, 15, 44, 93, 32]\n"
     ]
    }
   ],
   "source": [
    "nums = [18, 32, 27, 44, 15, 93]\n",
    "nums.sort(key=lambda x: x % 10, reverse=True)\n",
    "print(nums)\n"
   ]
  }
 ],
 "metadata": {
  "kernelspec": {
   "display_name": "Python 3",
   "language": "python",
   "name": "python3"
  },
  "language_info": {
   "codemirror_mode": {
    "name": "ipython",
    "version": 3
   },
   "file_extension": ".py",
   "mimetype": "text/x-python",
   "name": "python",
   "nbconvert_exporter": "python",
   "pygments_lexer": "ipython3",
   "version": "3.10.0"
  }
 },
 "nbformat": 4,
 "nbformat_minor": 2
}
