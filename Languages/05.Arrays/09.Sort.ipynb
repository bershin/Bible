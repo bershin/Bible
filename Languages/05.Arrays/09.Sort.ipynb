{
 "cells": [
  {
   "cell_type": "code",
   "execution_count": 1,
   "metadata": {},
   "outputs": [
    {
     "name": "stdout",
     "output_type": "stream",
     "text": [
      "['apple', 'cherry', 'grapes', 'mango', 'orange', 'pine apple']\n",
      "['mango', 'grapes', 'orange', 'apple', 'pine apple', 'cherry']\n",
      "['apple', 'cherry', 'grapes', 'mango', 'orange', 'pine apple']\n"
     ]
    }
   ],
   "source": [
    "fruits = [\"mango\", \"grapes\", \"orange\", \"apple\", \"pine apple\", \"cherry\"]\n",
    "print(sorted(fruits))  # ['apple', 'cherry', 'grapes', 'mango', 'orange', 'pine apple']\n",
    "print(fruits)  # original list unchanged\n",
    "\n",
    "# In-place sort (like JS `fruits.sort()`)\n",
    "fruits.sort()\n",
    "print(fruits)  # ['apple', 'cherry', 'grapes', 'mango', 'orange', 'pine apple']\n"
   ]
  },
  {
   "cell_type": "code",
   "execution_count": null,
   "metadata": {},
   "outputs": [],
   "source": [
    "lotto = [1, 23, 11, 2, 3, 33, 5, 66]\n",
    "\n",
    "# JS default sort does lexicographical sorting unless comparator provided\n",
    "# Python does numeric sort by default!\n",
    "print(sorted(lotto))  \n",
    "# [1, 2, 3, 5, 11, 23, 33, 66] ✅\n"
   ]
  },
  {
   "cell_type": "code",
   "execution_count": null,
   "metadata": {},
   "outputs": [],
   "source": [
    "sort_lotto = sorted([1, 23, 11, 2, 3, 33, 5, 66], key=lambda x: x)\n",
    "print(sort_lotto)  \n",
    "# [1, 2, 3, 5, 11, 23, 33, 66]"
   ]
  },
  {
   "cell_type": "code",
   "execution_count": null,
   "metadata": {},
   "outputs": [],
   "source": [
    "fruits = [\"mango\", \"grapes\", \"orange\", \"apple\", \"pine apple\", \"cherry\"]\n",
    "fruits.sort(reverse=True)\n",
    "print(fruits)\n",
    "# ['pine apple', 'orange', 'mango', 'grapes', 'cherry', 'apple']\n"
   ]
  },
  {
   "cell_type": "code",
   "execution_count": null,
   "metadata": {},
   "outputs": [],
   "source": [
    "lotto = [1, 23, 11, 2, 3, 33, 5, 66]\n",
    "lotto.sort(reverse=True)\n",
    "print(lotto)\n",
    "# [66, 33, 23, 11, 5, 3, 2, 1]\n"
   ]
  },
  {
   "cell_type": "code",
   "execution_count": null,
   "metadata": {},
   "outputs": [],
   "source": [
    "fruits = [\"mango\", \"grapes\", \"orange\", \"apple\", \"pine apple\", \"cherry\"]\n",
    "fruits.sort(key=len)\n",
    "print(fruits)\n",
    "# ['mango', 'apple', 'grapes', 'orange', 'cherry', 'pine apple']\n"
   ]
  },
  {
   "cell_type": "markdown",
   "metadata": {},
   "source": [
    "### Sort numbers by last digit"
   ]
  },
  {
   "cell_type": "code",
   "execution_count": null,
   "metadata": {},
   "outputs": [],
   "source": [
    "nums = [18, 32, 27, 44, 15, 93]\n",
    "nums.sort(key=lambda x: x % 10)\n",
    "print(nums)\n",
    "# [32, 93, 44, 15, 27, 18]\n"
   ]
  }
 ],
 "metadata": {
  "kernelspec": {
   "display_name": "Python 3",
   "language": "python",
   "name": "python3"
  },
  "language_info": {
   "codemirror_mode": {
    "name": "ipython",
    "version": 3
   },
   "file_extension": ".py",
   "mimetype": "text/x-python",
   "name": "python",
   "nbconvert_exporter": "python",
   "pygments_lexer": "ipython3",
   "version": "3.10.0"
  }
 },
 "nbformat": 4,
 "nbformat_minor": 2
}
