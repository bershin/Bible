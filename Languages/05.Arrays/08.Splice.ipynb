{
 "cells": [
  {
   "cell_type": "code",
   "execution_count": 1,
   "metadata": {},
   "outputs": [
    {
     "name": "stdout",
     "output_type": "stream",
     "text": [
      "['mango', 'banana', 'grapes', 'orange', 'apple', 'pine apple', 'cherry']\n"
     ]
    }
   ],
   "source": [
    "fruits = [\"mango\", \"grapes\", \"orange\", \"apple\", \"pine apple\", \"cherry\"]\n",
    "\n",
    "# Insert \"banana\" at index 1\n",
    "fruits[1:1] = [\"banana\"]\n",
    "print(fruits)\n",
    "# ['mango', 'banana', 'grapes', 'orange', 'apple', 'pine apple', 'cherry']"
   ]
  },
  {
   "cell_type": "code",
   "execution_count": 2,
   "metadata": {},
   "outputs": [
    {
     "name": "stdout",
     "output_type": "stream",
     "text": [
      "['orange', 'apple']\n",
      "['mango', 'banana', 'grapes', 'pine apple', 'cherry']\n"
     ]
    }
   ],
   "source": [
    "# Delete 2 items from index 3\n",
    "removed = fruits[3:5]\n",
    "del fruits[3:5]\n",
    "print(removed)  # ['orange', 'apple']\n",
    "print(fruits)\n",
    "# ['mango', 'banana', 'grapes', 'pine apple', 'cherry']"
   ]
  },
  {
   "cell_type": "code",
   "execution_count": 3,
   "metadata": {},
   "outputs": [
    {
     "name": "stdout",
     "output_type": "stream",
     "text": [
      "['mango', 'banana', 'pomo', 'berry', 'grapes', 'pine apple', 'cherry']\n"
     ]
    }
   ],
   "source": [
    "# Insert multiple values at index 2\n",
    "fruits[2:2] = [\"pomo\", \"berry\"]\n",
    "print(fruits)\n",
    "# ['mango', 'banana', 'pomo', 'berry', 'grapes', 'pine apple', 'cherry']"
   ]
  },
  {
   "cell_type": "code",
   "execution_count": 4,
   "metadata": {},
   "outputs": [
    {
     "name": "stdout",
     "output_type": "stream",
     "text": [
      "['banana']\n",
      "['mango', 'carrot', 'tomato', 'pomo', 'berry', 'grapes', 'pine apple', 'cherry']\n"
     ]
    }
   ],
   "source": [
    "# Replace one with multiple values at index 1\n",
    "removed = fruits[1:2]\n",
    "fruits[1:2] = [\"carrot\", \"tomato\"]\n",
    "print(removed)  # ['banana']\n",
    "print(fruits)\n",
    "# ['mango', 'carrot', 'tomato', 'pomo', 'berry', 'grapes', 'pine apple', 'cherry']"
   ]
  }
 ],
 "metadata": {
  "kernelspec": {
   "display_name": "Python 3",
   "language": "python",
   "name": "python3"
  },
  "language_info": {
   "codemirror_mode": {
    "name": "ipython",
    "version": 3
   },
   "file_extension": ".py",
   "mimetype": "text/x-python",
   "name": "python",
   "nbconvert_exporter": "python",
   "pygments_lexer": "ipython3",
   "version": "3.10.0"
  }
 },
 "nbformat": 4,
 "nbformat_minor": 2
}
