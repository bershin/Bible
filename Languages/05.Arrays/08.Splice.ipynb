{
 "cells": [
  {
   "cell_type": "markdown",
   "metadata": {},
   "source": [
    "### Insert one element in an list"
   ]
  },
  {
   "cell_type": "code",
   "execution_count": 25,
   "metadata": {},
   "outputs": [
    {
     "name": "stdout",
     "output_type": "stream",
     "text": [
      "['mango', 'grapes', 'orange', 'apple', 'pine apple', 'cherry']\n",
      "['mango', 'banana', 'grapes', 'orange', 'apple', 'pine apple', 'cherry']\n"
     ]
    }
   ],
   "source": [
    "fruits = [\"mango\", \"grapes\", \"orange\", \"apple\", \"pine apple\", \"cherry\"]\n",
    "print(fruits)\n",
    "\n",
    "# Insert \"banana\" at index 1\n",
    "fruits[1:0] = [\"banana\"]\n",
    "print(fruits)\n",
    "# ['mango', 'banana', 'grapes', 'orange', 'apple', 'pine apple', 'cherry']"
   ]
  },
  {
   "cell_type": "markdown",
   "metadata": {},
   "source": [
    "### Insert multiple element in an list"
   ]
  },
  {
   "cell_type": "code",
   "execution_count": 26,
   "metadata": {},
   "outputs": [
    {
     "name": "stdout",
     "output_type": "stream",
     "text": [
      "['mango', 'banana', 'grapes', 'orange', 'apple', 'pine apple', 'cherry']\n",
      "['mango', 'banana', 'pomo', 'berry', 'grapes', 'orange', 'apple', 'pine apple', 'cherry']\n"
     ]
    }
   ],
   "source": [
    "# Insert multiple values at index 2\n",
    "print(fruits)\n",
    "fruits[2:0] = [\"pomo\", \"berry\"]\n",
    "print(fruits)"
   ]
  },
  {
   "cell_type": "markdown",
   "metadata": {},
   "source": [
    "### Replace one or more element in an list"
   ]
  },
  {
   "cell_type": "code",
   "execution_count": 22,
   "metadata": {},
   "outputs": [
    {
     "name": "stdout",
     "output_type": "stream",
     "text": [
      "['mango', 'banana', 'grapes', 'pomo', 'berry', 'orange', 'apple', 'pine apple', 'cherry']\n",
      "['banana']\n",
      "['mango', 'jack', 'mosambi', 'grapes', 'pomo', 'berry', 'orange', 'apple', 'pine apple', 'cherry']\n"
     ]
    }
   ],
   "source": [
    "# Replace one with multiple values at index 1\n",
    "print(fruits)\n",
    "removed = fruits[1:2]\n",
    "fruits[1:2] = [\"jack\", \"mosambi\"]\n",
    "print(removed)  # ['banana']\n",
    "print(fruits)"
   ]
  },
  {
   "cell_type": "markdown",
   "metadata": {},
   "source": [
    "### Delete one or more element in an list"
   ]
  },
  {
   "cell_type": "code",
   "execution_count": 19,
   "metadata": {},
   "outputs": [
    {
     "name": "stdout",
     "output_type": "stream",
     "text": [
      "['grapes', 'pomo']\n",
      "['mango', 'jack', 'mosambi', 'berry', 'orange', 'apple', 'pine apple', 'cherry']\n"
     ]
    }
   ],
   "source": [
    "# Delete 2 items from index 3\n",
    "removed = fruits[3:5]\n",
    "del fruits[3:5]\n",
    "print(removed)  # ['orange', 'apple']\n",
    "print(fruits)"
   ]
  }
 ],
 "metadata": {
  "kernelspec": {
   "display_name": "Python 3",
   "language": "python",
   "name": "python3"
  },
  "language_info": {
   "codemirror_mode": {
    "name": "ipython",
    "version": 3
   },
   "file_extension": ".py",
   "mimetype": "text/x-python",
   "name": "python",
   "nbconvert_exporter": "python",
   "pygments_lexer": "ipython3",
   "version": "3.10.0"
  }
 },
 "nbformat": 4,
 "nbformat_minor": 2
}
