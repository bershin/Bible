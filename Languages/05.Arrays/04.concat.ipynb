{
 "cells": [
  {
   "cell_type": "code",
   "execution_count": 1,
   "metadata": {},
   "outputs": [
    {
     "name": "stdout",
     "output_type": "stream",
     "text": [
      "['brinjal', 'carrot', 'apple', 'grapes']\n",
      "['brinjal', 'carrot', 'pork', 'beef', 'apple', 'grapes']\n"
     ]
    }
   ],
   "source": [
    "veggie = [\"brinjal\", \"carrot\"]\n",
    "fruit = [\"apple\", \"grapes\"]\n",
    "meat = [\"pork\", \"beef\"]\n",
    "\n",
    "print(veggie + fruit)\n",
    "# ['brinjal', 'carrot', 'apple', 'grapes']\n",
    "\n",
    "allfood = veggie + meat + fruit\n",
    "print(allfood)\n",
    "# ['brinjal', 'carrot', 'pork', 'beef', 'apple', 'grapes']\n"
   ]
  }
 ],
 "metadata": {
  "kernelspec": {
   "display_name": "Python 3",
   "language": "python",
   "name": "python3"
  },
  "language_info": {
   "codemirror_mode": {
    "name": "ipython",
    "version": 3
   },
   "file_extension": ".py",
   "mimetype": "text/x-python",
   "name": "python",
   "nbconvert_exporter": "python",
   "pygments_lexer": "ipython3",
   "version": "3.10.0"
  }
 },
 "nbformat": 4,
 "nbformat_minor": 2
}
