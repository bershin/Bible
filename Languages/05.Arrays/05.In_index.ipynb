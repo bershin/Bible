{
 "cells": [
  {
   "cell_type": "markdown",
   "metadata": {},
   "source": [
    "### Check if an element present in the list"
   ]
  },
  {
   "cell_type": "code",
   "execution_count": 1,
   "metadata": {},
   "outputs": [
    {
     "name": "stdout",
     "output_type": "stream",
     "text": [
      "True\n",
      "False\n",
      "False\n",
      "False\n",
      "Cherry is my favorite\n"
     ]
    }
   ],
   "source": [
    "fruits = [\"mango\", \"grapes\", \"orange\", \"apple\", \"pine apple\", \"cherry\"]\n",
    "\n",
    "# Equivalent to includes\n",
    "print(\"apple\" in fruits)         # True\n",
    "print(\"mangoose\" in fruits)      # False\n",
    "print(\"pine\" in fruits)          # False\n",
    "print(\"apple\" in fruits[4:])     # False (search from index 4)\n",
    "\n",
    "# Using includes-like logic in a condition\n",
    "if \"cherry\" in fruits:\n",
    "    print(\"Cherry is my favorite\")  # Cherry is my favorite"
   ]
  },
  {
   "cell_type": "markdown",
   "metadata": {},
   "source": [
    "### Return index of the element in the list"
   ]
  },
  {
   "cell_type": "code",
   "execution_count": 2,
   "metadata": {},
   "outputs": [
    {
     "name": "stdout",
     "output_type": "stream",
     "text": [
      "3\n",
      "-1\n",
      "-1\n",
      "-1\n",
      "Cherry is my favorite\n"
     ]
    }
   ],
   "source": [
    "# Equivalent to indexOf\n",
    "print(fruits.index(\"apple\"))     # 3\n",
    "\n",
    "# Use try-except to handle not found case\n",
    "try:\n",
    "    print(fruits.index(\"mangoose\"))\n",
    "except ValueError:\n",
    "    print(-1)                    # -1\n",
    "\n",
    "try:\n",
    "    print(fruits.index(\"pine\"))\n",
    "except ValueError:\n",
    "    print(-1)                    # -1\n",
    "\n",
    "# Searching from a specific index (like JS's indexOf with start param)\n",
    "try:\n",
    "    print(fruits[4:].index(\"apple\") + 4)  # If not found in slice, will raise\n",
    "except ValueError:\n",
    "    print(-1)                    # -1\n",
    "\n",
    "# Using index-like logic in a condition\n",
    "try:\n",
    "    if fruits.index(\"cherry\") != -1:\n",
    "        print(\"Cherry is my favorite\")\n",
    "except ValueError:\n",
    "    pass"
   ]
  }
 ],
 "metadata": {
  "kernelspec": {
   "display_name": "Python 3",
   "language": "python",
   "name": "python3"
  },
  "language_info": {
   "codemirror_mode": {
    "name": "ipython",
    "version": 3
   },
   "file_extension": ".py",
   "mimetype": "text/x-python",
   "name": "python",
   "nbconvert_exporter": "python",
   "pygments_lexer": "ipython3",
   "version": "3.10.0"
  }
 },
 "nbformat": 4,
 "nbformat_minor": 2
}
