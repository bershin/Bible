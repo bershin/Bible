{
 "cells": [
  {
   "cell_type": "markdown",
   "metadata": {},
   "source": [
    "### Looping through a String in Reverse"
   ]
  },
  {
   "cell_type": "code",
   "execution_count": 1,
   "metadata": {},
   "outputs": [
    {
     "name": "stdout",
     "output_type": "stream",
     "text": [
      "e\n",
      "o\n",
      "D\n",
      " \n",
      "n\n",
      "h\n",
      "o\n",
      "J\n"
     ]
    }
   ],
   "source": [
    "full_name = \"John Doe\"\n",
    "for i in range(len(full_name) - 1, -1, -1):\n",
    "    print(full_name[i])\n"
   ]
  },
  {
   "cell_type": "code",
   "execution_count": 2,
   "metadata": {},
   "outputs": [
    {
     "name": "stdout",
     "output_type": "stream",
     "text": [
      "e\n",
      "o\n",
      "D\n",
      " \n",
      "n\n",
      "h\n",
      "o\n",
      "J\n"
     ]
    }
   ],
   "source": [
    "for char in reversed(full_name):\n",
    "    print(char)\n"
   ]
  },
  {
   "cell_type": "markdown",
   "metadata": {},
   "source": [
    "### Looping through list"
   ]
  },
  {
   "cell_type": "code",
   "execution_count": 3,
   "metadata": {},
   "outputs": [
    {
     "name": "stdout",
     "output_type": "stream",
     "text": [
      "Hello: 1\n",
      "Hello: 2\n",
      "Hello: 3\n",
      "Hello: 4\n",
      "Hello: 5\n"
     ]
    }
   ],
   "source": [
    "example_array = [1, 2, 3, 4, 5]\n",
    "for item in example_array:\n",
    "    print(\"Hello:\", item)\n"
   ]
  },
  {
   "cell_type": "markdown",
   "metadata": {},
   "source": [
    "### Looping through list of dict"
   ]
  },
  {
   "cell_type": "code",
   "execution_count": 4,
   "metadata": {},
   "outputs": [
    {
     "name": "stdout",
     "output_type": "stream",
     "text": [
      "John scored 90\n",
      "Jane scored 80\n",
      "Doe scored 70\n",
      "Average grade: 80.0\n"
     ]
    }
   ],
   "source": [
    "students = [\n",
    "    {\"name\": \"John\", \"grade\": 90},\n",
    "    {\"name\": \"Jane\", \"grade\": 80},\n",
    "    {\"name\": \"Doe\", \"grade\": 70}\n",
    "]\n",
    "\n",
    "total = 0\n",
    "for student in students:\n",
    "    total += student[\"grade\"]\n",
    "    print(f\"{student['name']} scored {student['grade']}\")\n",
    "\n",
    "print(\"Average grade:\", total / len(students))\n"
   ]
  }
 ],
 "metadata": {
  "kernelspec": {
   "display_name": "Python 3",
   "language": "python",
   "name": "python3"
  },
  "language_info": {
   "codemirror_mode": {
    "name": "ipython",
    "version": 3
   },
   "file_extension": ".py",
   "mimetype": "text/x-python",
   "name": "python",
   "nbconvert_exporter": "python",
   "pygments_lexer": "ipython3",
   "version": "3.10.0"
  }
 },
 "nbformat": 4,
 "nbformat_minor": 2
}
