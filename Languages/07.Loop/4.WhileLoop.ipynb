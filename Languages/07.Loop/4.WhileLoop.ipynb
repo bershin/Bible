{
 "cells": [
  {
   "cell_type": "markdown",
   "metadata": {},
   "source": [
    "### Simple While loop"
   ]
  },
  {
   "cell_type": "code",
   "execution_count": 1,
   "metadata": {},
   "outputs": [
    {
     "name": "stdout",
     "output_type": "stream",
     "text": [
      "Hello: 0\n",
      "Hello: 1\n",
      "Hello: 2\n",
      "Hello: 3\n",
      "Hello: 4\n",
      "Hello: 5\n",
      "Hello: 6\n",
      "Hello: 7\n",
      "Hello: 8\n",
      "Hello: 9\n"
     ]
    }
   ],
   "source": [
    "i = 0\n",
    "while i < 10:\n",
    "    print(\"Hello:\", i)\n",
    "    i += 1\n"
   ]
  },
  {
   "cell_type": "markdown",
   "metadata": {},
   "source": [
    "### Guessing Game"
   ]
  },
  {
   "cell_type": "code",
   "execution_count": 2,
   "metadata": {},
   "outputs": [
    {
     "name": "stdout",
     "output_type": "stream",
     "text": [
      "Target: 3 Guess: 5\n",
      "Target: 3 Guess: 2\n",
      "Target: 3 Guess: 9\n",
      "Target: 3 Guess: 5\n",
      "Target: 3 Guess: 7\n",
      "Target: 3 Guess: 1\n",
      "Target: 3 Guess: 4\n",
      "Target: 3 Guess: 9\n",
      "Target: 3 Guess: 9\n",
      "Target: 3 Guess: 4\n",
      "Target: 3 Guess: 7\n",
      "Target: 3 Guess: 7\n",
      "Target: 3 Guess: 4\n",
      "Target: 3 Guess: 4\n",
      "Target: 3 Guess: 1\n",
      "Target: 3 Guess: 0\n",
      "Target: 3 Guess: 3 Total Guess: 16\n"
     ]
    }
   ],
   "source": [
    "import random\n",
    "\n",
    "target = random.randint(0, 9)  # includes both 0 and 9\n",
    "guess = random.randint(0, 9)\n",
    "count = 0\n",
    "\n",
    "while guess != target:\n",
    "    print(f\"Target: {target} Guess: {guess}\")\n",
    "    guess = random.randint(0, 9)\n",
    "    count += 1\n",
    "\n",
    "print(f\"Target: {target} Guess: {guess} Total Guess: {count}\")\n"
   ]
  }
 ],
 "metadata": {
  "kernelspec": {
   "display_name": "Python 3",
   "language": "python",
   "name": "python3"
  },
  "language_info": {
   "codemirror_mode": {
    "name": "ipython",
    "version": 3
   },
   "file_extension": ".py",
   "mimetype": "text/x-python",
   "name": "python",
   "nbconvert_exporter": "python",
   "pygments_lexer": "ipython3",
   "version": "3.10.0"
  }
 },
 "nbformat": 4,
 "nbformat_minor": 2
}
