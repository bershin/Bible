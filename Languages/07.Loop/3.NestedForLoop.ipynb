{
 "cells": [
  {
   "cell_type": "markdown",
   "metadata": {},
   "source": [
    "### Nested loop with numbers"
   ]
  },
  {
   "cell_type": "code",
   "execution_count": null,
   "metadata": {},
   "outputs": [
    {
     "name": "stdout",
     "output_type": "stream",
     "text": [
      "1 1\n",
      "2 1\n",
      "2 2\n",
      "3 1\n",
      "3 2\n",
      "3 3\n",
      "4 1\n",
      "4 2\n",
      "4 3\n",
      "4 4\n",
      "5 1\n",
      "5 2\n",
      "5 3\n",
      "5 4\n",
      "5 5\n"
     ]
    }
   ],
   "source": [
    "for i in range(1, 6):  # 1 to 5 inclusive\n",
    "    for j in range(1, i + 1):  # 1 to i inclusive\n",
    "        print(i, j)"
   ]
  },
  {
   "cell_type": "markdown",
   "metadata": {},
   "source": [
    "### Nested loop over 2D array "
   ]
  },
  {
   "cell_type": "code",
   "execution_count": 2,
   "metadata": {},
   "outputs": [
    {
     "name": "stdout",
     "output_type": "stream",
     "text": [
      "Row: [1, 2, 3]\n",
      "1\n",
      "2\n",
      "3\n",
      "Row: [4, 5, 6]\n",
      "4\n",
      "5\n",
      "6\n",
      "Row: [7, 8, 9]\n",
      "7\n",
      "8\n",
      "9\n",
      "Total: 45\n"
     ]
    }
   ],
   "source": [
    "game_board = [\n",
    "    [1, 2, 3],\n",
    "    [4, 5, 6],\n",
    "    [7, 8, 9]\n",
    "]\n",
    "\n",
    "total = 0\n",
    "for row in game_board:\n",
    "    print(\"Row:\", row)\n",
    "    for value in row:\n",
    "        print(value)\n",
    "        total += value\n",
    "\n",
    "print(\"Total:\", total)\n"
   ]
  },
  {
   "cell_type": "markdown",
   "metadata": {},
   "source": [
    "### One Liner"
   ]
  },
  {
   "cell_type": "code",
   "execution_count": 4,
   "metadata": {},
   "outputs": [
    {
     "name": "stdout",
     "output_type": "stream",
     "text": [
      "45\n"
     ]
    }
   ],
   "source": [
    "total = sum(sum(row) for row in game_board)\n",
    "print(total)"
   ]
  },
  {
   "cell_type": "markdown",
   "metadata": {},
   "source": [
    "### Oneliner equivalent"
   ]
  },
  {
   "cell_type": "code",
   "execution_count": 6,
   "metadata": {},
   "outputs": [
    {
     "name": "stdout",
     "output_type": "stream",
     "text": [
      "45\n"
     ]
    }
   ],
   "source": [
    "total = 0\n",
    "for row in game_board:\n",
    "    total += sum(row)\n",
    "print(total)"
   ]
  }
 ],
 "metadata": {
  "kernelspec": {
   "display_name": "Python 3",
   "language": "python",
   "name": "python3"
  },
  "language_info": {
   "codemirror_mode": {
    "name": "ipython",
    "version": 3
   },
   "file_extension": ".py",
   "mimetype": "text/x-python",
   "name": "python",
   "nbconvert_exporter": "python",
   "pygments_lexer": "ipython3",
   "version": "3.10.0"
  }
 },
 "nbformat": 4,
 "nbformat_minor": 2
}
