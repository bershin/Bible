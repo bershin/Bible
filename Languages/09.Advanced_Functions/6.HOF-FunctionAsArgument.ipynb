{
 "cells": [
  {
   "cell_type": "markdown",
   "metadata": {},
   "source": [
    "### Passing function as argument"
   ]
  },
  {
   "cell_type": "code",
   "execution_count": 1,
   "metadata": {},
   "outputs": [
    {
     "name": "stdout",
     "output_type": "stream",
     "text": [
      "boohoo!\n",
      "boohoo!\n",
      "boohoo!\n"
     ]
    }
   ],
   "source": [
    "def repeat_three_times(func):\n",
    "    func()\n",
    "    func()\n",
    "    func()\n",
    "\n",
    "def laugh():\n",
    "    print(\"haha!\")\n",
    "\n",
    "def cry():\n",
    "    print(\"boohoo!\")\n",
    "\n",
    "repeat_three_times(cry)  # boohoo! boohoo! boohoo!\n"
   ]
  },
  {
   "cell_type": "markdown",
   "metadata": {},
   "source": [
    "### Calling a function N times"
   ]
  },
  {
   "cell_type": "code",
   "execution_count": 2,
   "metadata": {},
   "outputs": [
    {
     "name": "stdout",
     "output_type": "stream",
     "text": [
      "haha!\n",
      "haha!\n",
      "haha!\n",
      "boohoo!\n",
      "boohoo!\n"
     ]
    }
   ],
   "source": [
    "def repeat_n_times(func, num):\n",
    "    for _ in range(num):\n",
    "        func()\n",
    "\n",
    "repeat_n_times(laugh, 3)  # haha! haha! haha!\n",
    "repeat_n_times(cry, 2)    # boohoo! boohoo!\n"
   ]
  },
  {
   "cell_type": "markdown",
   "metadata": {},
   "source": [
    "### Passing multiple functions and picking one"
   ]
  },
  {
   "cell_type": "code",
   "execution_count": 3,
   "metadata": {},
   "outputs": [
    {
     "name": "stdout",
     "output_type": "stream",
     "text": [
      "boohoo!\n"
     ]
    }
   ],
   "source": [
    "import random\n",
    "\n",
    "def pick_one(func1, func2):\n",
    "    if random.random() < 0.5:\n",
    "        func1()\n",
    "    else:\n",
    "        func2()\n",
    "\n",
    "pick_one(laugh, cry)  # Random output: haha! or boohoo!\n"
   ]
  },
  {
   "cell_type": "markdown",
   "metadata": {},
   "source": [
    "### Using a timer to delay function execution"
   ]
  },
  {
   "cell_type": "code",
   "execution_count": 4,
   "metadata": {},
   "outputs": [
    {
     "name": "stdout",
     "output_type": "stream",
     "text": [
      "Alarm goes on!!\n"
     ]
    }
   ],
   "source": [
    "import time\n",
    "\n",
    "def alert_me():\n",
    "    print(\"Alarm goes on!!\")\n",
    "\n",
    "# Simulate setTimeout\n",
    "time.sleep(2)\n",
    "alert_me()\n"
   ]
  }
 ],
 "metadata": {
  "kernelspec": {
   "display_name": "Python 3",
   "language": "python",
   "name": "python3"
  },
  "language_info": {
   "codemirror_mode": {
    "name": "ipython",
    "version": 3
   },
   "file_extension": ".py",
   "mimetype": "text/x-python",
   "name": "python",
   "nbconvert_exporter": "python",
   "pygments_lexer": "ipython3",
   "version": "3.10.0"
  }
 },
 "nbformat": 4,
 "nbformat_minor": 2
}
