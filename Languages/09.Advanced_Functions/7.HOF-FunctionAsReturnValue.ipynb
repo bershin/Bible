{
 "cells": [
  {
   "cell_type": "markdown",
   "metadata": {},
   "source": [
    "### Return a function"
   ]
  },
  {
   "cell_type": "code",
   "execution_count": 3,
   "metadata": {},
   "outputs": [
    {
     "name": "stdout",
     "output_type": "stream",
     "text": [
      "18\n",
      "12\n"
     ]
    }
   ],
   "source": [
    "def product_by(x):\n",
    "    def temp(num):\n",
    "        return x * num\n",
    "    return temp\n",
    "\n",
    "triple = product_by(3)\n",
    "print(triple(6))  # 18\n",
    "double = product_by(2)\n",
    "print(double(6))  # 12\n"
   ]
  },
  {
   "cell_type": "markdown",
   "metadata": {},
   "source": [
    "### Closure"
   ]
  },
  {
   "cell_type": "code",
   "execution_count": 4,
   "metadata": {},
   "outputs": [
    {
     "name": "stdout",
     "output_type": "stream",
     "text": [
      "True\n",
      "False\n",
      "True\n",
      "False\n",
      "True\n",
      "False\n"
     ]
    }
   ],
   "source": [
    "def make_between(x, y):\n",
    "    def check(num):\n",
    "        return x < num < y\n",
    "    return check\n",
    "\n",
    "is_child = make_between(0, 6)\n",
    "print(is_child(3))  # True\n",
    "print(is_child(7))  # False\n",
    "\n",
    "is_ninty_kid = make_between(1990, 2000)\n",
    "print(is_ninty_kid(1997))  # True\n",
    "print(is_ninty_kid(2001))  # False\n",
    "\n",
    "is_nice_weather = make_between(18, 22)\n",
    "print(is_nice_weather(20))  # True\n",
    "print(is_nice_weather(34))  # False\n"
   ]
  }
 ],
 "metadata": {
  "kernelspec": {
   "display_name": "Python 3",
   "language": "python",
   "name": "python3"
  },
  "language_info": {
   "codemirror_mode": {
    "name": "ipython",
    "version": 3
   },
   "file_extension": ".py",
   "mimetype": "text/x-python",
   "name": "python",
   "nbconvert_exporter": "python",
   "pygments_lexer": "ipython3",
   "version": "3.10.0"
  }
 },
 "nbformat": 4,
 "nbformat_minor": 2
}
