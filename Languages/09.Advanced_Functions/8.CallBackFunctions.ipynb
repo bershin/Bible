{
 "cells": [
  {
   "cell_type": "markdown",
   "metadata": {},
   "source": [
    "### Repeat a function multiple times"
   ]
  },
  {
   "cell_type": "code",
   "execution_count": 3,
   "metadata": {},
   "outputs": [
    {
     "name": "stdout",
     "output_type": "stream",
     "text": [
      "haha!\n",
      "haha!\n",
      "haha!\n",
      "boohoo!\n",
      "boohoo!\n",
      "boohoo!\n"
     ]
    }
   ],
   "source": [
    "def repeat_three_times(func):\n",
    "    func()\n",
    "    func()\n",
    "    func()\n",
    "\n",
    "def laugh():\n",
    "    print(\"haha!\")\n",
    "\n",
    "repeat_three_times(laugh)  # haha! haha! haha!\n",
    "\n",
    "repeat_three_times(lambda: print(\"boohoo!\"))  # boohoo! boohoo! boohoo!\n"
   ]
  },
  {
   "cell_type": "markdown",
   "metadata": {},
   "source": [
    "### Repeat a function N times"
   ]
  },
  {
   "cell_type": "code",
   "execution_count": 1,
   "metadata": {},
   "outputs": [
    {
     "name": "stdout",
     "output_type": "stream",
     "text": [
      "haha!\n",
      "haha!\n",
      "haha!\n"
     ]
    }
   ],
   "source": [
    "def repeat_n_times(func, num):\n",
    "    for _ in range(num):\n",
    "        func()\n",
    "\n",
    "repeat_n_times(lambda: print(\"haha!\"), 3)  # haha! haha! haha!\n"
   ]
  },
  {
   "cell_type": "markdown",
   "metadata": {},
   "source": [
    "### Pick one of two function randomly"
   ]
  },
  {
   "cell_type": "code",
   "execution_count": 2,
   "metadata": {},
   "outputs": [
    {
     "name": "stdout",
     "output_type": "stream",
     "text": [
      "haha!\n"
     ]
    }
   ],
   "source": [
    "import random\n",
    "\n",
    "def pick_one(func1, func2):\n",
    "    rand = random.random()\n",
    "    if rand < 0.5:\n",
    "        func1()\n",
    "    else:\n",
    "        func2()\n",
    "\n",
    "pick_one(lambda: print(\"haha!\"), lambda: print(\"boohoo!\"))  # haha! or boohoo!\n"
   ]
  }
 ],
 "metadata": {
  "kernelspec": {
   "display_name": "Python 3",
   "language": "python",
   "name": "python3"
  },
  "language_info": {
   "codemirror_mode": {
    "name": "ipython",
    "version": 3
   },
   "file_extension": ".py",
   "mimetype": "text/x-python",
   "name": "python",
   "nbconvert_exporter": "python",
   "pygments_lexer": "ipython3",
   "version": "3.10.0"
  }
 },
 "nbformat": 4,
 "nbformat_minor": 2
}
