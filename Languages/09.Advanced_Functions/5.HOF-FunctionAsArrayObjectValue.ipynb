{
 "cells": [
  {
   "cell_type": "markdown",
   "metadata": {},
   "source": [
    "### Storing function as items in list"
   ]
  },
  {
   "cell_type": "code",
   "execution_count": 1,
   "metadata": {},
   "outputs": [
    {
     "name": "stdout",
     "output_type": "stream",
     "text": [
      "2\n",
      "35\n",
      "25\n",
      "150\n",
      "6.0\n"
     ]
    }
   ],
   "source": [
    "def add(a, b):\n",
    "    return a + b\n",
    "\n",
    "def sub(a, b):\n",
    "    return a - b\n",
    "\n",
    "multiply = lambda a, b: a * b\n",
    "\n",
    "def divide(a, b):\n",
    "    return a / b\n",
    "\n",
    "operations = [add, sub, multiply, divide]\n",
    "\n",
    "print(operations[2](1, 2))  # 2\n",
    "\n",
    "for operation in operations:\n",
    "    print(operation(30, 5))  # 35 25 150 6.0\n"
   ]
  },
  {
   "cell_type": "markdown",
   "metadata": {},
   "source": [
    "### Anonymous functions in a list"
   ]
  },
  {
   "cell_type": "code",
   "execution_count": 3,
   "metadata": {},
   "outputs": [
    {
     "name": "stdout",
     "output_type": "stream",
     "text": [
      "2\n",
      "1\n"
     ]
    }
   ],
   "source": [
    "work = [\n",
    "    lambda a, b: a * b,\n",
    "    lambda a, b: a - b,\n",
    "    lambda a, b: a * b,\n",
    "    lambda a, b: a / b\n",
    "]\n",
    "\n",
    "print(work[0](1, 2))  # 2\n",
    "print(work[1](3, 2))  # 1\n"
   ]
  },
  {
   "cell_type": "markdown",
   "metadata": {},
   "source": [
    "### Storing functions as values in a dictionary"
   ]
  },
  {
   "cell_type": "code",
   "execution_count": 2,
   "metadata": {},
   "outputs": [
    {
     "name": "stdout",
     "output_type": "stream",
     "text": [
      "3\n"
     ]
    }
   ],
   "source": [
    "calc = {\n",
    "    \"sum\": add,\n",
    "    \"sub\": sub,\n",
    "    \"multiply\": multiply,\n",
    "    \"divide\": divide\n",
    "}\n",
    "\n",
    "print(calc[\"sum\"](1, 2))  # 3\n"
   ]
  },
  {
   "cell_type": "markdown",
   "metadata": {},
   "source": [
    "### Defining functions inline inside dictionary "
   ]
  },
  {
   "cell_type": "code",
   "execution_count": 4,
   "metadata": {},
   "outputs": [
    {
     "name": "stdout",
     "output_type": "stream",
     "text": [
      "3\n"
     ]
    }
   ],
   "source": [
    "math = {\n",
    "    \"add\": lambda a, b: a + b,\n",
    "    \"sub\": lambda a, b: a - b,\n",
    "    \"multiply\": lambda a, b: a * b,\n",
    "    \"divide\": lambda a, b: a / b\n",
    "}\n",
    "\n",
    "print(math[\"add\"](1, 2))  # 3\n"
   ]
  }
 ],
 "metadata": {
  "kernelspec": {
   "display_name": "Python 3",
   "language": "python",
   "name": "python3"
  },
  "language_info": {
   "codemirror_mode": {
    "name": "ipython",
    "version": 3
   },
   "file_extension": ".py",
   "mimetype": "text/x-python",
   "name": "python",
   "nbconvert_exporter": "python",
   "pygments_lexer": "ipython3",
   "version": "3.10.0"
  }
 },
 "nbformat": 4,
 "nbformat_minor": 2
}
