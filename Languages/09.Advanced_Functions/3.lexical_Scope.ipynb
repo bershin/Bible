{
 "cells": [
  {
   "cell_type": "markdown",
   "metadata": {},
   "source": [
    "### Closest variable is used"
   ]
  },
  {
   "cell_type": "code",
   "execution_count": 1,
   "metadata": {},
   "outputs": [
    {
     "name": "stdout",
     "output_type": "stream",
     "text": [
      "I am inside!\n",
      "I am inside!\n",
      "I am outside!\n"
     ]
    }
   ],
   "source": [
    "def outer():\n",
    "    msg = 'I am outside!'\n",
    "\n",
    "    def inner():\n",
    "        msg = 'I am inside!'\n",
    "        print(msg)  # I am inside!\n",
    "        \n",
    "        def inner_inner():\n",
    "            print(msg)  # I am inside!\n",
    "        \n",
    "        inner_inner()\n",
    "\n",
    "    inner()\n",
    "    print(msg)  # I am outside!\n",
    "\n",
    "outer()\n"
   ]
  },
  {
   "cell_type": "markdown",
   "metadata": {},
   "source": [
    "### Inner function has access to variables in outerscope."
   ]
  },
  {
   "cell_type": "code",
   "execution_count": 2,
   "metadata": {},
   "outputs": [
    {
     "name": "stdout",
     "output_type": "stream",
     "text": [
      "I am outside!\n",
      "I am outside!\n",
      "I am outside!\n"
     ]
    }
   ],
   "source": [
    "def external():\n",
    "    msg = 'I am outside!'\n",
    "\n",
    "    def internal():\n",
    "        print(msg)  # I am outside!\n",
    "        \n",
    "        def core():\n",
    "            print(msg)  # I am outside!\n",
    "        \n",
    "        core()\n",
    "\n",
    "    internal()\n",
    "    print(msg)  # I am outside!\n",
    "\n",
    "external()\n"
   ]
  }
 ],
 "metadata": {
  "kernelspec": {
   "display_name": "Python 3",
   "language": "python",
   "name": "python3"
  },
  "language_info": {
   "codemirror_mode": {
    "name": "ipython",
    "version": 3
   },
   "file_extension": ".py",
   "mimetype": "text/x-python",
   "name": "python",
   "nbconvert_exporter": "python",
   "pygments_lexer": "ipython3",
   "version": "3.10.0"
  }
 },
 "nbformat": 4,
 "nbformat_minor": 2
}
