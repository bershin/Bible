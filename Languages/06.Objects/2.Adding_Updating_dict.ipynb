{
 "cells": [
  {
   "cell_type": "markdown",
   "metadata": {},
   "source": [
    "### Adding"
   ]
  },
  {
   "cell_type": "code",
   "execution_count": 1,
   "metadata": {},
   "outputs": [
    {
     "name": "stdout",
     "output_type": "stream",
     "text": [
      "{'queenBee49': 4.0, 'mrSmith78': 3.5}\n"
     ]
    }
   ],
   "source": [
    "user_reviews = {}\n",
    "user_reviews['queenBee49'] = 4.0\n",
    "user_reviews['mrSmith78'] = 3.5  # No dot notation in dicts\n",
    "\n",
    "print(user_reviews)  # {'queenBee49': 4.0, 'mrSmith78': 3.5}"
   ]
  },
  {
   "cell_type": "markdown",
   "metadata": {},
   "source": [
    "### Updating"
   ]
  },
  {
   "cell_type": "code",
   "execution_count": 2,
   "metadata": {},
   "outputs": [
    {
     "name": "stdout",
     "output_type": "stream",
     "text": [
      "{'queenBee49': 6.0, 'mrSmith78': 4.5}\n"
     ]
    }
   ],
   "source": [
    "user_reviews['queenBee49'] += 2\n",
    "user_reviews['mrSmith78'] += 1  # No ++ operator in Python\n",
    "\n",
    "print(user_reviews)  # {'queenBee49': 6.0, 'mrSmith78': 4.5}"
   ]
  }
 ],
 "metadata": {
  "kernelspec": {
   "display_name": "Python 3",
   "language": "python",
   "name": "python3"
  },
  "language_info": {
   "codemirror_mode": {
    "name": "ipython",
    "version": 3
   },
   "file_extension": ".py",
   "mimetype": "text/x-python",
   "name": "python",
   "nbconvert_exporter": "python",
   "pygments_lexer": "ipython3",
   "version": "3.10.0"
  }
 },
 "nbformat": 4,
 "nbformat_minor": 2
}
