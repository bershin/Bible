{
 "cells": [
  {
   "cell_type": "markdown",
   "metadata": {},
   "source": [
    "### List of Dicts"
   ]
  },
  {
   "cell_type": "code",
   "execution_count": 1,
   "metadata": {},
   "outputs": [
    {
     "name": "stdout",
     "output_type": "stream",
     "text": [
      "6.88\n",
      "cat food\n"
     ]
    }
   ],
   "source": [
    "shopping_cart = [\n",
    "    {\n",
    "        \"id\": 1,\n",
    "        \"price\": 6.88,\n",
    "        \"product\": \"dog food\"\n",
    "    },\n",
    "    {\n",
    "        \"id\": 2,\n",
    "        \"price\": 5.65,\n",
    "        \"product\": \"cat food\"\n",
    "    }\n",
    "]\n",
    "\n",
    "print(shopping_cart[0][\"price\"])    # 6.88\n",
    "print(shopping_cart[1][\"product\"])  # cat food"
   ]
  },
  {
   "cell_type": "markdown",
   "metadata": {},
   "source": [
    "### Mixed datatype in object"
   ]
  },
  {
   "cell_type": "code",
   "execution_count": 2,
   "metadata": {},
   "outputs": [
    {
     "name": "stdout",
     "output_type": "stream",
     "text": [
      "Music\n",
      "90.0\n"
     ]
    }
   ],
   "source": [
    "student = {\n",
    "    \"firstName\": \"David\",\n",
    "    \"lastName\": \"Jones\",\n",
    "    \"strengths\": [\"Music\", \"Art\"],\n",
    "    \"exams\": {\n",
    "        \"midterm\": 92,\n",
    "        \"final\": 88\n",
    "    }\n",
    "}\n",
    "\n",
    "avg = (student[\"exams\"][\"midterm\"] + student[\"exams\"][\"final\"]) / 2\n",
    "print(student[\"strengths\"][0])  # Music\n",
    "print(avg)  # 90.0\n"
   ]
  },
  {
   "cell_type": "markdown",
   "metadata": {},
   "source": [
    "### Dict with multi dimention list"
   ]
  },
  {
   "cell_type": "code",
   "execution_count": null,
   "metadata": {},
   "outputs": [
    {
     "name": "stdout",
     "output_type": "stream",
     "text": [
      "Muffins\n",
      "O\n"
     ]
    }
   ],
   "source": [
    "game = {\n",
    "    \"player1\": {\n",
    "        \"username\": \"Muffins\",\n",
    "        \"playingAs\": \"O\"\n",
    "    },\n",
    "    \"player2\": {\n",
    "        username : 'Muffins',\n",
    "        playingAs: '0'\n",
    "    },\n",
    "    \"board\": [\n",
    "        [\"O\", None, \"X\"],\n",
    "        [None, \"X\", \"O\"],\n",
    "        [\"X\", \"O\", None]\n",
    "    ]\n",
    "}\n",
    "\n",
    "print(game[\"player1\"][\"username\"])  # Muffins\n",
    "print(game[\"board\"][0][0])          # O\n"
   ]
  }
 ],
 "metadata": {
  "kernelspec": {
   "display_name": "Python 3",
   "language": "python",
   "name": "python3"
  },
  "language_info": {
   "codemirror_mode": {
    "name": "ipython",
    "version": 3
   },
   "file_extension": ".py",
   "mimetype": "text/x-python",
   "name": "python",
   "nbconvert_exporter": "python",
   "pygments_lexer": "ipython3",
   "version": "3.10.0"
  }
 },
 "nbformat": 4,
 "nbformat_minor": 2
}
