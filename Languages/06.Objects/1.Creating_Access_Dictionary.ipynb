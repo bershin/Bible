{
 "cells": [
  {
   "cell_type": "code",
   "execution_count": 1,
   "metadata": {},
   "outputs": [
    {
     "name": "stdout",
     "output_type": "stream",
     "text": [
      "211.7\n",
      "5760\n",
      "2:13\n"
     ]
    }
   ],
   "source": [
    "lucy_fitbit = {\n",
    "    \"totalSteps\": 308727,\n",
    "    \"totalMiles\": 211.7,\n",
    "    \"avgCalorieBurn\": 5755 + 5,\n",
    "    \"workoutsThisWeek\": \"5 of 7\",\n",
    "    \"avgGoodSleep\": \"2:13\"\n",
    "}\n",
    "\n",
    "print(lucy_fitbit[\"totalMiles\"])        # 211.7\n",
    "print(lucy_fitbit[\"avgCalorieBurn\"])    # 5760\n",
    "print(lucy_fitbit[\"avgGoodSleep\"])      # 2:13"
   ]
  },
  {
   "cell_type": "markdown",
   "metadata": {},
   "source": [
    "### Dictionary with different types of keys"
   ]
  },
  {
   "cell_type": "code",
   "execution_count": 3,
   "metadata": {},
   "outputs": [
    {
     "name": "stdout",
     "output_type": "stream",
     "text": [
      "One hundred\n",
      "Sixteen\n",
      "#FFFFFF\n",
      "#000000\n",
      "#000000\n"
     ]
    }
   ],
   "source": [
    "pallet = {\n",
    "    100: \"One hundred\",\n",
    "    \"16\": \"Sixteen\",\n",
    "    \"grey white\": \"#FFFFFF\",\n",
    "    \"black\": \"#000000\"\n",
    "}\n",
    "\n",
    "# Accessing values\n",
    "print(pallet[100])          # One hundred\n",
    "# print(pallet[\"100\"])        # KeyError unless \"100\" is explicitly added\n",
    "print(pallet[\"16\"])         # Sixteen\n",
    "print(pallet[\"grey white\"]) # #FFFFFF\n",
    "print(pallet[\"black\"])      # #000000\n",
    "\n",
    "# Dynamic key access\n",
    "pitch_black = \"black\"\n",
    "print(pallet[pitch_black])  # #000000\n",
    "\n",
    "# This won't work in Python (no dot access for dict keys)\n",
    "# print(pallet.pitch_black) # AttributeError\n"
   ]
  }
 ],
 "metadata": {
  "kernelspec": {
   "display_name": "Python 3",
   "language": "python",
   "name": "python3"
  },
  "language_info": {
   "codemirror_mode": {
    "name": "ipython",
    "version": 3
   },
   "file_extension": ".py",
   "mimetype": "text/x-python",
   "name": "python",
   "nbconvert_exporter": "python",
   "pygments_lexer": "ipython3",
   "version": "3.10.0"
  }
 },
 "nbformat": 4,
 "nbformat_minor": 2
}
