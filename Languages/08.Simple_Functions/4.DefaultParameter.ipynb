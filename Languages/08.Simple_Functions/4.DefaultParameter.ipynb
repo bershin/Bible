{
 "cells": [
  {
   "cell_type": "code",
   "execution_count": 1,
   "metadata": {},
   "outputs": [
    {
     "name": "stdout",
     "output_type": "stream",
     "text": [
      "12\n",
      "6\n"
     ]
    }
   ],
   "source": [
    "def multiply(x, y=None):\n",
    "    if y is None:\n",
    "        y = 2\n",
    "    return x * y\n",
    "\n",
    "print(multiply(4, 3))  # 12\n",
    "print(multiply(3))     # 6"
   ]
  },
  {
   "cell_type": "code",
   "execution_count": 2,
   "metadata": {},
   "outputs": [
    {
     "name": "stdout",
     "output_type": "stream",
     "text": [
      "12\n",
      "6\n"
     ]
    }
   ],
   "source": [
    "def product(x, y=2):\n",
    "    return x * y\n",
    "\n",
    "print(product(4, 3))  # 12\n",
    "print(product(3))     # 6"
   ]
  },
  {
   "cell_type": "code",
   "execution_count": 3,
   "metadata": {},
   "outputs": [
    {
     "name": "stdout",
     "output_type": "stream",
     "text": [
      "Hi, Bershin!\n",
      "!!!, Bershin!\n",
      "Hello, Bershin.\n"
     ]
    }
   ],
   "source": [
    "def greet(person, greeting=\"Hi\", punctuation=\"!\"):\n",
    "    return f\"{greeting}, {person}{punctuation}\"\n",
    "\n",
    "print(greet(\"Bershin\"))                  # Hi, Bershin!\n",
    "print(greet(\"Bershin\", \"!!!\"))           # !!!, Bershin!\n",
    "print(greet(\"Bershin\", \"Hello\", \".\"))    # Hello, Bershin."
   ]
  },
  {
   "cell_type": "code",
   "execution_count": 4,
   "metadata": {},
   "outputs": [
    {
     "name": "stdout",
     "output_type": "stream",
     "text": [
      "12\n",
      "6\n"
     ]
    }
   ],
   "source": [
    "def times(x, y=2):\n",
    "    return x * y\n",
    "\n",
    "print(times(4, 3))  # 12\n",
    "print(times(3))     # 6"
   ]
  }
 ],
 "metadata": {
  "kernelspec": {
   "display_name": "Python 3",
   "language": "python",
   "name": "python3"
  },
  "language_info": {
   "codemirror_mode": {
    "name": "ipython",
    "version": 3
   },
   "file_extension": ".py",
   "mimetype": "text/x-python",
   "name": "python",
   "nbconvert_exporter": "python",
   "pygments_lexer": "ipython3",
   "version": "3.10.0"
  }
 },
 "nbformat": 4,
 "nbformat_minor": 2
}
