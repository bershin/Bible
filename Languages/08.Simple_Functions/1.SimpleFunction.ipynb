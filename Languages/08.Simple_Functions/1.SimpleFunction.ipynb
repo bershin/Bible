{
 "cells": [
  {
   "cell_type": "code",
   "execution_count": 3,
   "metadata": {},
   "outputs": [
    {
     "name": "stdout",
     "output_type": "stream",
     "text": [
      "Please!\n",
      "Thank You!\n",
      "Please!\n",
      "Thank You!\n",
      "Please!\n",
      "Thank You!\n",
      "Please!\n",
      "Thank You!\n",
      "Please!\n",
      "Thank You!\n"
     ]
    }
   ],
   "source": [
    "def sayMagicWord():\n",
    "  print('Please!')\n",
    "  print('Thank You!')\n",
    "\n",
    "for i in range(5):\n",
    "  sayMagicWord()"
   ]
  },
  {
   "cell_type": "code",
   "execution_count": 23,
   "metadata": {},
   "outputs": [
    {
     "name": "stdout",
     "output_type": "stream",
     "text": [
      "Rolled: 3\n",
      "Rolled: 1\n",
      "Rolled: 6\n"
     ]
    }
   ],
   "source": [
    "import random\n",
    "def rollDie():\n",
    "  roll = random.randint(1,6)\n",
    "  print(f\"Rolled: {roll}\");\n",
    "\n",
    "def throwDice():\n",
    "    rollDie()\n",
    "    rollDie()\n",
    "    rollDie()\n",
    "throwDice()"
   ]
  }
 ],
 "metadata": {
  "kernelspec": {
   "display_name": "Python 3",
   "language": "python",
   "name": "python3"
  },
  "language_info": {
   "codemirror_mode": {
    "name": "ipython",
    "version": 3
   },
   "file_extension": ".py",
   "mimetype": "text/x-python",
   "name": "python",
   "nbconvert_exporter": "python",
   "pygments_lexer": "ipython3",
   "version": "3.10.0"
  }
 },
 "nbformat": 4,
 "nbformat_minor": 2
}
