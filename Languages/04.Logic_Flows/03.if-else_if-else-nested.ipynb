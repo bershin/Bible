{
 "cells": [
  {
   "cell_type": "code",
   "execution_count": 19,
   "metadata": {},
   "outputs": [
    {
     "name": "stdout",
     "output_type": "stream",
     "text": [
      "It's true\n"
     ]
    }
   ],
   "source": [
    "if 1 == 1:\n",
    "    print(\"It's true\")"
   ]
  },
  {
   "cell_type": "code",
   "execution_count": 20,
   "metadata": {},
   "outputs": [
    {
     "name": "stdout",
     "output_type": "stream",
     "text": [
      "Odd number\n"
     ]
    }
   ],
   "source": [
    "num = 33\n",
    "if num % 2 != 0:\n",
    "    print(\"Odd number\")\n",
    "else:\n",
    "    print(\"Even number\")"
   ]
  },
  {
   "cell_type": "code",
   "execution_count": 17,
   "metadata": {},
   "outputs": [
    {
     "name": "stdout",
     "output_type": "stream",
     "text": [
      "You get 10% hike!\n"
     ]
    }
   ],
   "source": [
    "rating=3\n",
    "if rating == 1:\n",
    "    print(\"You get no hike!\")\n",
    "elif rating == 2:\n",
    "    print(\"You get 5% hike!\")\n",
    "elif rating == 3:\n",
    "    print(\"You get 10% hike!\")"
   ]
  },
  {
   "cell_type": "code",
   "execution_count": 16,
   "metadata": {},
   "outputs": [
    {
     "name": "stdout",
     "output_type": "stream",
     "text": [
      "New highscore is 97\n"
     ]
    }
   ],
   "source": [
    "highScore = 95\n",
    "myScore = 97\n",
    "if myScore > highScore:\n",
    "    highScore = myScore\n",
    "    print(f\"New highscore is {highScore}\")\n",
    "else:\n",
    "    print(f\"Game over: Your score {myScore}\")"
   ]
  },
  {
   "cell_type": "code",
   "execution_count": 21,
   "metadata": {},
   "outputs": [
    {
     "name": "stdout",
     "output_type": "stream",
     "text": [
      "Longer password but have spaces!\n"
     ]
    }
   ],
   "source": [
    "password = \"bershin john\"\n",
    "if len(password) >= 6:\n",
    "    # Check space\n",
    "    if password.find(\" \") == -1:\n",
    "        print(\"Valid Password!\")\n",
    "    else:\n",
    "        print(\"Longer password but have spaces!\")\n",
    "else:\n",
    "    print(\"Password must be longer!\")"
   ]
  }
 ],
 "metadata": {
  "kernelspec": {
   "display_name": "Python 3",
   "language": "python",
   "name": "python3"
  },
  "language_info": {
   "codemirror_mode": {
    "name": "ipython",
    "version": 3
   },
   "file_extension": ".py",
   "mimetype": "text/x-python",
   "name": "python",
   "nbconvert_exporter": "python",
   "pygments_lexer": "ipython3",
   "version": "3.10.0"
  }
 },
 "nbformat": 4,
 "nbformat_minor": 2
}
