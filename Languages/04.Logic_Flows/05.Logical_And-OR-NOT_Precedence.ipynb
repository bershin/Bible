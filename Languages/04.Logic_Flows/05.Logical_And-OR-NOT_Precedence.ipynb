{
 "cells": [
  {
   "cell_type": "code",
   "execution_count": 3,
   "metadata": {},
   "outputs": [
    {
     "name": "stdout",
     "output_type": "stream",
     "text": [
      "True\n",
      "False\n",
      "False\n"
     ]
    }
   ],
   "source": [
    "print(1 <= 4 and 'a' == 'a')\n",
    "print(9 > 10 and 9 >= 0)\n",
    "print(len(\"abc\") == 3 and 1+1 == 4)"
   ]
  },
  {
   "cell_type": "code",
   "execution_count": null,
   "metadata": {},
   "outputs": [
    {
     "name": "stdout",
     "output_type": "stream",
     "text": [
      "Invalid password!\n"
     ]
    }
   ],
   "source": [
    "password = \"I stg passwd\"\n",
    "if len(password) >= 6 and password.find(\" \") == -1:\n",
    "    print(\"Valid Password!\")\n",
    "else:\n",
    "    print(\"Invalid password!\")\n"
   ]
  },
  {
   "cell_type": "code",
   "execution_count": null,
   "metadata": {},
   "outputs": [
    {
     "name": "stdout",
     "output_type": "stream",
     "text": [
      "Within range\n"
     ]
    }
   ],
   "source": [
    "num = 3\n",
    "if num >= 1 and num <= 3:\n",
    "    print(\"Within range\")\n",
    "else:\n",
    "    print(\"Out of range\")\n"
   ]
  },
  {
   "cell_type": "code",
   "execution_count": null,
   "metadata": {},
   "outputs": [
    {
     "name": "stdout",
     "output_type": "stream",
     "text": [
      "Pay $10\n"
     ]
    }
   ],
   "source": [
    "age = 42\n",
    "if age < 6 or age > 65:\n",
    "    print(\"Go for free!\")\n",
    "else:\n",
    "    print(\"Pay $10\")"
   ]
  },
  {
   "cell_type": "code",
   "execution_count": null,
   "metadata": {},
   "outputs": [
    {
     "name": "stdout",
     "output_type": "stream",
     "text": [
      "great choice\n"
     ]
    }
   ],
   "source": [
    "color = \"red\"\n",
    "if color == \"red\" or color == \"blue\" or color == \"green\":\n",
    "    print(\"great choice\")"
   ]
  },
  {
   "cell_type": "code",
   "execution_count": 16,
   "metadata": {},
   "outputs": [
    {
     "name": "stdout",
     "output_type": "stream",
     "text": [
      "False\n",
      "False\n"
     ]
    }
   ],
   "source": [
    "print(not (0 == 0))\n",
    "print(not (3 <= 4))"
   ]
  },
  {
   "cell_type": "code",
   "execution_count": null,
   "metadata": {},
   "outputs": [
    {
     "name": "stdout",
     "output_type": "stream",
     "text": [
      "Get out\n"
     ]
    }
   ],
   "source": [
    "userLoggedIn = False\n",
    "if not userLoggedIn:\n",
    "    print(\"Get out\")"
   ]
  },
  {
   "cell_type": "code",
   "execution_count": null,
   "metadata": {},
   "outputs": [
    {
     "name": "stdout",
     "output_type": "stream",
     "text": [
      "We only have grapes and orange\n"
     ]
    }
   ],
   "source": [
    "flavor = \"grapes\"\n",
    "if flavor != \"grapes\" and flavor != \"orange\":\n",
    "    print(\"Do not have that flavor\")\n",
    "\n",
    "flavor = \"watermelon\"\n",
    "if not (flavor == \"grapes\" or flavor == \"orange\") :\n",
    "    print(\"We only have grapes and orange\")"
   ]
  },
  {
   "cell_type": "code",
   "execution_count": 19,
   "metadata": {},
   "outputs": [
    {
     "name": "stdout",
     "output_type": "stream",
     "text": [
      "True\n",
      "False\n"
     ]
    }
   ],
   "source": [
    "x = 7\n",
    "print(x == 7 or x == 3 and x > 10) \n",
    "\n",
    "print((x == 7 or x == 3) and x > 10)"
   ]
  }
 ],
 "metadata": {
  "kernelspec": {
   "display_name": "Python 3",
   "language": "python",
   "name": "python3"
  },
  "language_info": {
   "codemirror_mode": {
    "name": "ipython",
    "version": 3
   },
   "file_extension": ".py",
   "mimetype": "text/x-python",
   "name": "python",
   "nbconvert_exporter": "python",
   "pygments_lexer": "ipython3",
   "version": "3.10.0"
  }
 },
 "nbformat": 4,
 "nbformat_minor": 2
}
